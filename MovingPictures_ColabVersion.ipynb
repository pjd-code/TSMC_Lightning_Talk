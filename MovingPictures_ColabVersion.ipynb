{
  "nbformat": 4,
  "nbformat_minor": 0,
  "metadata": {
    "colab": {
      "name": "MovingPictures_ColabVersion.ipynb",
      "provenance": [],
      "collapsed_sections": [],
      "authorship_tag": "ABX9TyNh4v4k9RNcAsInwFdUQ2GK",
      "include_colab_link": true
    },
    "kernelspec": {
      "name": "python3",
      "display_name": "Python 3"
    },
    "language_info": {
      "name": "python"
    }
  },
  "cells": [
    {
      "cell_type": "markdown",
      "metadata": {
        "id": "view-in-github",
        "colab_type": "text"
      },
      "source": [
        "<a href=\"https://colab.research.google.com/github/pjd-code/TSMC_Lightning_Talk/blob/main/MovingPictures_ColabVersion.ipynb\" target=\"_parent\"><img src=\"https://colab.research.google.com/assets/colab-badge.svg\" alt=\"Open In Colab\"/></a>"
      ]
    },
    {
      "cell_type": "markdown",
      "metadata": {
        "id": "K66rgi9Yb6gy"
      },
      "source": [
        "Before we begin our analysis we will need to download Miniconda and Qiime2. An excellent way to do this is with a Python script written by Christian Diener https://cdiener.com/. The following code blocks will download and run the GitHub repository for the project."
      ]
    },
    {
      "cell_type": "code",
      "metadata": {
        "id": "H9fZubBObTaW"
      },
      "source": [
        "!git clone https://gist.github.com/pjd-code/c4665eb0c55e26f61fb5c9f83d9f3fa1"
      ],
      "execution_count": null,
      "outputs": []
    },
    {
      "cell_type": "code",
      "metadata": {
        "id": "3IEEZfikcESl"
      },
      "source": [
        "%run /content/c4665eb0c55e26f61fb5c9f83d9f3fa1/setup_qiime2.py"
      ],
      "execution_count": null,
      "outputs": []
    },
    {
      "cell_type": "markdown",
      "metadata": {
        "id": "ctdyfw02dUfv"
      },
      "source": [
        "In this tutorial you’ll use QIIME 2 to perform an analysis of human microbiome samples from two individuals at four body sites at five timepoints, the first of which immediately followed antibiotic usage. A study based on these samples was originally published in Caporaso et al. (2011). The data used in this tutorial were sequenced on an Illumina HiSeq using the Earth Microbiome Project hypervariable region 4 (V4) 16S rRNA sequencing protocol."
      ]
    },
    {
      "cell_type": "code",
      "metadata": {
        "id": "iKAycjI9cvkH"
      },
      "source": [
        "#Before beginning this tutorial, create a new directory and change to that directory.\n",
        "\n",
        "!mkdir qiime2-moving-pictures-tutorial\n",
        "%cd qiime2-moving-pictures-tutorial"
      ],
      "execution_count": null,
      "outputs": []
    },
    {
      "cell_type": "markdown",
      "metadata": {
        "id": "rzKcoXo5dZlQ"
      },
      "source": [
        "# Sample metadata\n",
        "Before starting the analysis, explore the sample metadata to familiarize yourself with the samples used in this study. The sample metadata is available as a Google Sheet. You can download this file as tab-separated text by selecting File > Download as > Tab-separated values. Alternatively, the following command will download the sample metadata as tab-separated text and save it in the file sample-metadata.tsv. This sample-metadata.tsv file is used throughout the rest of the tutorial."
      ]
    },
    {
      "cell_type": "code",
      "metadata": {
        "id": "q_mAZZn7c8wk"
      },
      "source": [
        "!wget -O \"sample-metadata.tsv\" \"https://data.qiime2.org/2021.8/tutorials/moving-pictures/sample_metadata.tsv\""
      ],
      "execution_count": null,
      "outputs": []
    },
    {
      "cell_type": "markdown",
      "metadata": {
        "id": "yiHd8XlXdna3"
      },
      "source": [
        "# Obtaining and importing data\n",
        "Download the sequence reads that we’ll use in this analysis. In this tutorial we’ll work with a small subset of the complete sequence data so that the commands will run quickly."
      ]
    },
    {
      "cell_type": "code",
      "metadata": {
        "id": "Ri7Ftld5dtlI"
      },
      "source": [
        "!mkdir emp-single-end-sequences"
      ],
      "execution_count": 6,
      "outputs": []
    },
    {
      "cell_type": "code",
      "metadata": {
        "id": "ZfwOcHPrd2XG"
      },
      "source": [
        "#barcodes\n",
        "!wget -O \"emp-single-end-sequences/barcodes.fastq.gz\" \"https://data.qiime2.org/2021.8/tutorials/moving-pictures/emp-single-end-sequences/barcodes.fastq.gz\"\n",
        "#single end sequence\n",
        "!wget -O \"emp-single-end-sequences/sequences.fastq.gz\" \"https://data.qiime2.org/2021.8/tutorials/moving-pictures/emp-single-end-sequences/sequences.fastq.gz\""
      ],
      "execution_count": null,
      "outputs": []
    },
    {
      "cell_type": "markdown",
      "metadata": {
        "id": "up5-WIfoeatm"
      },
      "source": [
        "All data that is used as input to QIIME 2 is in form of QIIME 2 artifacts, which contain information about the type of data and the source of the data. So, the first thing we need to do is import these sequence data files into a QIIME 2 artifact.\n",
        "\n",
        "The semantic type of this QIIME 2 artifact is EMPSingleEndSequences. EMPSingleEndSequences QIIME 2 artifacts contain sequences that are multiplexed, meaning that the sequences have not yet been assigned to samples (hence the inclusion of both sequences.fastq.gz and barcodes.fastq.gz files, where the barcodes.fastq.gz contains the barcode read associated with each sequence in sequences.fastq.gz.)"
      ]
    },
    {
      "cell_type": "code",
      "metadata": {
        "id": "16mLUZY4elAp"
      },
      "source": [
        "!qiime tools import \\\n",
        "  --type EMPSingleEndSequences \\\n",
        "  --input-path emp-single-end-sequences \\\n",
        "  --output-path emp-single-end-sequences.qza"
      ],
      "execution_count": null,
      "outputs": []
    },
    {
      "cell_type": "markdown",
      "metadata": {
        "id": "OZCUYDwde0c9"
      },
      "source": [
        "It is possible to check the UUID, type, and format of your newly-imported sequences, confirming that your import worked as expected:"
      ]
    },
    {
      "cell_type": "code",
      "metadata": {
        "id": "prYgHnXze1j2"
      },
      "source": [
        "!qiime tools peek emp-single-end-sequences.qza"
      ],
      "execution_count": null,
      "outputs": []
    },
    {
      "cell_type": "markdown",
      "metadata": {
        "id": "hnSJQ8zQe-cm"
      },
      "source": [
        "# Demultiplexing sequences\n",
        "To demultiplex sequences we need to know which barcode sequence is associated with each sample. This information is contained in the sample metadata file. You can run the following commands to demultiplex the sequences (the demux emp-single command refers to the fact that these sequences are barcoded according to the Earth Microbiome Project protocol, and are single-end reads). The demux.qza QIIME 2 artifact will contain the demultiplexed sequences. The second output (demux-details.qza) presents Golay error correction details, and will not be explored in this tutorial (you can visualize these data using qiime metadata tabulate)."
      ]
    },
    {
      "cell_type": "code",
      "metadata": {
        "id": "cHXKXRUefB4u"
      },
      "source": [
        "!qiime demux emp-single \\\n",
        "  --i-seqs emp-single-end-sequences.qza \\\n",
        "  --m-barcodes-file sample-metadata.tsv \\\n",
        "  --m-barcodes-column barcode-sequence \\\n",
        "  --o-per-sample-sequences demux.qza \\\n",
        "  --o-error-correction-details demux-details.qza"
      ],
      "execution_count": null,
      "outputs": []
    },
    {
      "cell_type": "markdown",
      "metadata": {
        "id": "cB4c9Ys4fLu9"
      },
      "source": [
        "After demultiplexing, it’s useful to generate a summary of the demultiplexing results. This allows you to determine how many sequences were obtained per sample, and also to get a summary of the distribution of sequence qualities at each position in your sequence data."
      ]
    },
    {
      "cell_type": "code",
      "metadata": {
        "id": "tYIJeDcSfMw1"
      },
      "source": [
        "!qiime demux summarize \\\n",
        "  --i-data demux.qza \\\n",
        "  --o-visualization demux.qzv"
      ],
      "execution_count": null,
      "outputs": []
    },
    {
      "cell_type": "markdown",
      "metadata": {
        "id": "uKIzhCD6fTgd"
      },
      "source": [
        "# Sequence quality control and feature table construction\n",
        "QIIME 2 plugins are available for several quality control methods, including DADA2, Deblur, and basic quality-score-based filtering. In this tutorial we present this step using DADA2 and Deblur. These steps are interchangeable, so you can use whichever of these you prefer. The result of both of these methods will be a FeatureTable[Frequency] QIIME 2 artifact, which contains counts (frequencies) of each unique sequence in each sample in the dataset, and a FeatureData[Sequence] QIIME 2 artifact, which maps feature identifiers in the FeatureTable to the sequences they represent."
      ]
    },
    {
      "cell_type": "markdown",
      "metadata": {
        "id": "PF7P6i1XfkcP"
      },
      "source": [
        "# Option 1: DADA2\n",
        "DADA2 is a pipeline for detecting and correcting (where possible) Illumina amplicon sequence data. As implemented in the q2-dada2 plugin, this quality control process will additionally filter any phiX reads (commonly present in marker gene Illumina sequence data) that are identified in the sequencing data, and will filter chimeric sequences.\n",
        "\n",
        "The dada2 denoise-single method requires two parameters that are used in quality filtering: --p-trim-left m, which trims off the first m bases of each sequence, and --p-trunc-len n which truncates each sequence at position n. This allows the user to remove low quality regions of the sequences. To determine what values to pass for these two parameters, you should review the Interactive Quality Plot tab in the demux.qzv file that was generated by qiime demux summarize above."
      ]
    },
    {
      "cell_type": "markdown",
      "metadata": {
        "id": "dr2manLhfsXN"
      },
      "source": [
        "In the demux.qzv quality plots, we see that the quality of the initial bases seems to be high, so we won’t trim any bases from the beginning of the sequences. The quality seems to drop off around position 120, so we’ll truncate our sequences at 120 bases. This next command may take up to 10 minutes to run, and is the slowest step in this tutorial."
      ]
    },
    {
      "cell_type": "code",
      "metadata": {
        "id": "epzBznlMfVUU"
      },
      "source": [
        "!qiime dada2 denoise-single \\\n",
        "  --i-demultiplexed-seqs demux.qza \\\n",
        "  --p-trim-left 0 \\\n",
        "  --p-trunc-len 120 \\\n",
        "  --o-representative-sequences rep-seqs-dada2.qza \\\n",
        "  --o-table table-dada2.qza \\\n",
        "  --o-denoising-stats stats-dada2.qza"
      ],
      "execution_count": null,
      "outputs": []
    },
    {
      "cell_type": "code",
      "metadata": {
        "id": "7hs-3g1kfzpt"
      },
      "source": [
        "!qiime metadata tabulate \\\n",
        "  --m-input-file stats-dada2.qza \\\n",
        "  --o-visualization stats-dada2.qzv"
      ],
      "execution_count": null,
      "outputs": []
    },
    {
      "cell_type": "code",
      "metadata": {
        "id": "vRe2N78zf8md"
      },
      "source": [
        "#If you’d like to continue the tutorial using this FeatureTable (opposed to the \n",
        "#Deblur feature table generated in Option 2), run the following commands.\n",
        "\n",
        "!mv rep-seqs-dada2.qza rep-seqs.qza\n",
        "!mv table-dada2.qza table.qza"
      ],
      "execution_count": 13,
      "outputs": []
    },
    {
      "cell_type": "markdown",
      "metadata": {
        "id": "uYpXT6y0gGFN"
      },
      "source": [
        "# Option 2: Deblur\n",
        "Deblur uses sequence error profiles to associate erroneous sequence reads with the true biological sequence from which they are derived, resulting in high quality sequence variant data. This is applied in two steps. First, an initial quality filtering process based on quality scores is applied. This method is an implementation of the quality filtering approach described by Bokulich et al. (2013)."
      ]
    },
    {
      "cell_type": "code",
      "metadata": {
        "id": "RirNMFKCgJZ-"
      },
      "source": [
        "!qiime quality-filter q-score \\\n",
        " --i-demux demux.qza \\\n",
        " --o-filtered-sequences demux-filtered.qza \\\n",
        " --o-filter-stats demux-filter-stats.qza"
      ],
      "execution_count": null,
      "outputs": []
    },
    {
      "cell_type": "markdown",
      "metadata": {
        "id": "zWTfriQUgOzV"
      },
      "source": [
        "Next, the Deblur workflow is applied using the qiime deblur denoise-16S method. This method requires one parameter that is used in quality filtering, --p-trim-length n which truncates the sequences at position n. In general, the Deblur developers recommend setting this value to a length where the median quality score begins to drop too low. On these data, the quality plots (prior to quality filtering) suggest a reasonable choice is in the 115 to 130 sequence position range. This is a subjective assessment. One situation where you might deviate from that recommendation is when performing a meta-analysis across multiple sequencing runs. In this type of meta-analysis, it is critical that the read lengths be the same for all of the sequencing runs being compared to avoid introducing a study-specific bias. Since we already using a trim length of 120 for qiime dada2 denoise-single, and since 120 is reasonable given the quality plots, we’ll pass --p-trim-length 120. This next command may take up to 10 minutes to run."
      ]
    },
    {
      "cell_type": "code",
      "metadata": {
        "id": "pqfRaZdjgPsG"
      },
      "source": [
        "!qiime deblur denoise-16S \\\n",
        "  --i-demultiplexed-seqs demux-filtered.qza \\\n",
        "  --p-trim-length 120 \\\n",
        "  --o-representative-sequences rep-seqs-deblur.qza \\\n",
        "  --o-table table-deblur.qza \\\n",
        "  --p-sample-stats \\\n",
        "  --o-stats deblur-stats.qza"
      ],
      "execution_count": null,
      "outputs": []
    },
    {
      "cell_type": "code",
      "metadata": {
        "id": "QrYjUinYgVOF"
      },
      "source": [
        "#The two commands used in this section generate QIIME 2 artifacts containing \n",
        "#summary statistics. To view those summary statistics, you can visualize them \n",
        "#using qiime metadata tabulate and qiime deblur visualize-stats, respectively:\n",
        "\n",
        "!qiime metadata tabulate \\\n",
        "  --m-input-file demux-filter-stats.qza \\\n",
        "  --o-visualization demux-filter-stats.qzv\n",
        "!qiime deblur visualize-stats \\\n",
        "  --i-deblur-stats deblur-stats.qza \\\n",
        "  --o-visualization deblur-stats.qzv"
      ],
      "execution_count": null,
      "outputs": []
    },
    {
      "cell_type": "code",
      "metadata": {
        "id": "CMivwKG_gpkt"
      },
      "source": [
        "#If you’d like to continue the tutorial using this FeatureTable (opposed to the \n",
        "#DADA2 feature table generated in Option 1), run the following commands.\n",
        "\n",
        "!mv rep-seqs-deblur.qza rep-seqs.qza\n",
        "!mv table-deblur.qza table.qza"
      ],
      "execution_count": null,
      "outputs": []
    },
    {
      "cell_type": "markdown",
      "metadata": {
        "id": "EP_SVKiIg44c"
      },
      "source": [
        "# FeatureTable and FeatureData summaries\n",
        "After the quality filtering step completes, you’ll want to explore the resulting data. You can do this using the following two commands, which will create visual summaries of the data. The feature-table summarize command will give you information on how many sequences are associated with each sample and with each feature, histograms of those distributions, and some related summary statistics. The feature-table tabulate-seqs command will provide a mapping of feature IDs to sequences, and provide links to easily BLAST each sequence against the NCBI nt database. The latter visualization will be very useful later in the tutorial, when you want to learn more about specific features that are important in the data set."
      ]
    },
    {
      "cell_type": "code",
      "metadata": {
        "id": "u5eqFkZMg66W"
      },
      "source": [
        "!qiime feature-table summarize \\\n",
        "  --i-table table.qza \\\n",
        "  --o-visualization table.qzv \\\n",
        "  --m-sample-metadata-file sample-metadata.tsv\n",
        "!qiime feature-table tabulate-seqs \\\n",
        "  --i-data rep-seqs.qza \\\n",
        "  --o-visualization rep-seqs.qzv"
      ],
      "execution_count": null,
      "outputs": []
    },
    {
      "cell_type": "markdown",
      "metadata": {
        "id": "bAOBd0YvhDik"
      },
      "source": [
        "# Generate a tree for phylogenetic diversity analyses\n",
        "QIIME supports several phylogenetic diversity metrics, including Faith’s Phylogenetic Diversity and weighted and unweighted UniFrac. In addition to counts of features per sample (i.e., the data in the FeatureTable[Frequency] QIIME 2 artifact), these metrics require a rooted phylogenetic tree relating the features to one another. This information will be stored in a Phylogeny[Rooted] QIIME 2 artifact. To generate a phylogenetic tree we will use align-to-tree-mafft-fasttree pipeline from the q2-phylogeny plugin.\n",
        "\n",
        "First, the pipeline uses the mafft program to perform a multiple sequence alignment of the sequences in our FeatureData[Sequence] to create a FeatureData[AlignedSequence] QIIME 2 artifact. Next, the pipeline masks (or filters) the alignment to remove positions that are highly variable. These positions are generally considered to add noise to a resulting phylogenetic tree. Following that, the pipeline applies FastTree to generate a phylogenetic tree from the masked alignment. The FastTree program creates an unrooted tree, so in the final step in this section midpoint rooting is applied to place the root of the tree at the midpoint of the longest tip-to-tip distance in the unrooted tree."
      ]
    },
    {
      "cell_type": "code",
      "metadata": {
        "id": "5BwIK4j0hFVt"
      },
      "source": [
        "!qiime phylogeny align-to-tree-mafft-fasttree \\\n",
        "  --i-sequences rep-seqs.qza \\\n",
        "  --o-alignment aligned-rep-seqs.qza \\\n",
        "  --o-masked-alignment masked-aligned-rep-seqs.qza \\\n",
        "  --o-tree unrooted-tree.qza \\\n",
        "  --o-rooted-tree rooted-tree.qza"
      ],
      "execution_count": null,
      "outputs": []
    },
    {
      "cell_type": "markdown",
      "metadata": {
        "id": "l62Xnc8rhN1c"
      },
      "source": [
        "# Alpha and beta diversity analysis\n",
        "QIIME 2’s diversity analyses are available through the q2-diversity plugin, which supports computing alpha and beta diversity metrics, applying related statistical tests, and generating interactive visualizations. We’ll first apply the core-metrics-phylogenetic method, which rarefies a FeatureTable[Frequency] to a user-specified depth, computes several alpha and beta diversity metrics, and generates principle coordinates analysis (PCoA) plots using Emperor for each of the beta diversity metrics. The metrics computed by default are:\n",
        "\n",
        "Alpha diversity\n",
        "*   Shannon’s diversity index (a quantitative measure of community richness)\n",
        "*   Observed Features (a qualitative measure of community richness)\n",
        "*   Faith’s Phylogenetic Diversity (a qualitiative measure of community richness that incorporates phylogenetic relationships between the features)\n",
        "*   Evenness (or Pielou’s Evenness; a measure of community evenness)\n",
        "\n",
        "Beta diversity\n",
        "*   Jaccard distance (a qualitative measure of community dissimilarity)\n",
        "*   Bray-Curtis distance (a quantitative measure of community dissimilarity)\n",
        "*   unweighted UniFrac distance (a qualitative measure of community dissimilarity that incorporates phylogenetic relationships between the features)\n",
        "*   weighted UniFrac distance (a quantitative measure of community dissimilarity that incorporates phylogenetic relationships between the features)\n",
        "\n",
        "An important parameter that needs to be provided to this script is --p-sampling-depth, which is the even sampling (i.e. rarefaction) depth. Because most diversity metrics are sensitive to different sampling depths across different samples, this script will randomly subsample the counts from each sample to the value provided for this parameter. For example, if you provide --p-sampling-depth 500, this step will subsample the counts in each sample without replacement so that each sample in the resulting table has a total count of 500. If the total count for any sample(s) are smaller than this value, those samples will be dropped from the diversity analysis. Choosing this value is tricky. We recommend making your choice by reviewing the information presented in the table.qzv file that was created above. Choose a value that is as high as possible (so you retain more sequences per sample) while excluding as few samples as possible."
      ]
    },
    {
      "cell_type": "code",
      "metadata": {
        "id": "pXi0D0BYh3qn"
      },
      "source": [
        "!qiime diversity core-metrics-phylogenetic \\\n",
        "  --i-phylogeny rooted-tree.qza \\\n",
        "  --i-table table.qza \\\n",
        "  --p-sampling-depth 1103 \\\n",
        "  --m-metadata-file sample-metadata.tsv \\\n",
        "  --output-dir core-metrics-results"
      ],
      "execution_count": null,
      "outputs": []
    },
    {
      "cell_type": "markdown",
      "metadata": {
        "id": "nJLxNUQJiItL"
      },
      "source": [
        "Here we set the --p-sampling-depth parameter to 1103. This value was chosen based on the number of sequences in the L3S313 sample because it’s close to the number of sequences in the next few samples that have higher sequence counts, and because it is considerably higher (relatively) than the number of sequences in the samples that have fewer sequences. This will allow us to retain most of our samples. The three samples that have fewer sequences will be dropped from the core-metrics-phylogenetic analyses and anything that uses these results. It is worth noting that all three of these samples are “right palm” samples. Losing a disproportionate number of samples from one metadata category is not ideal. However, we are dropping a small enough number of samples here that this felt like the best compromise between total sequences analyzed and number of samples retained.\n",
        "\n",
        "After computing diversity metrics, we can begin to explore the microbial composition of the samples in the context of the sample metadata. This information is present in the sample metadata file that was downloaded earlier.\n",
        "\n",
        "We’ll first test for associations between categorical metadata columns and alpha diversity data. We’ll do that here for the Faith Phylogenetic Diversity (a measure of community richness) and evenness metrics."
      ]
    },
    {
      "cell_type": "code",
      "metadata": {
        "id": "WFauh9DHiM50"
      },
      "source": [
        "!qiime diversity alpha-group-significance \\\n",
        "  --i-alpha-diversity core-metrics-results/faith_pd_vector.qza \\\n",
        "  --m-metadata-file sample-metadata.tsv \\\n",
        "  --o-visualization core-metrics-results/faith-pd-group-significance.qzv\n",
        "\n",
        "!qiime diversity alpha-group-significance \\\n",
        "  --i-alpha-diversity core-metrics-results/evenness_vector.qza \\\n",
        "  --m-metadata-file sample-metadata.tsv \\\n",
        "  --o-visualization core-metrics-results/evenness-group-significance.qzv"
      ],
      "execution_count": null,
      "outputs": []
    },
    {
      "cell_type": "markdown",
      "metadata": {
        "id": "y1IgciQ8iUpU"
      },
      "source": [
        "In this data set, no continuous sample metadata columns (e.g., days-since-experiment-start) are correlated with alpha diversity, so we won’t test for those associations here. If you’re interested in performing those tests (for this data set, or for others), you can use the qiime diversity alpha-correlation command.\n",
        "\n",
        "Next we’ll analyze sample composition in the context of categorical metadata using PERMANOVA (first described in Anderson (2001)) using the beta-group-significance command. The following commands will test whether distances between samples within a group, such as samples from the same body site (e.g., gut), are more similar to each other then they are to samples from the other groups (e.g., tongue, left palm, and right palm). If you call this command with the --p-pairwise parameter, as we’ll do here, it will also perform pairwise tests that will allow you to determine which specific pairs of groups (e.g., tongue and gut) differ from one another, if any. This command can be slow to run, especially when passing --p-pairwise, since it is based on permutation tests. So, unlike the previous commands, we’ll run beta-group-significance on specific columns of metadata that we’re interested in exploring, rather than all metadata columns to which it is applicable. Here we’ll apply this to our unweighted UniFrac distances, using two sample metadata columns, as follows."
      ]
    },
    {
      "cell_type": "code",
      "metadata": {
        "id": "slxrnRbkiTqj"
      },
      "source": [
        "!qiime diversity beta-group-significance \\\n",
        "  --i-distance-matrix core-metrics-results/unweighted_unifrac_distance_matrix.qza \\\n",
        "  --m-metadata-file sample-metadata.tsv \\\n",
        "  --m-metadata-column body-site \\\n",
        "  --o-visualization core-metrics-results/unweighted-unifrac-body-site-significance.qzv \\\n",
        "  --p-pairwise\n",
        "\n",
        "!qiime diversity beta-group-significance \\\n",
        "  --i-distance-matrix core-metrics-results/unweighted_unifrac_distance_matrix.qza \\\n",
        "  --m-metadata-file sample-metadata.tsv \\\n",
        "  --m-metadata-column subject \\\n",
        "  --o-visualization core-metrics-results/unweighted-unifrac-subject-group-significance.qzv \\\n",
        "  --p-pairwise"
      ],
      "execution_count": null,
      "outputs": []
    },
    {
      "cell_type": "markdown",
      "metadata": {
        "id": "65OVCniPibUL"
      },
      "source": [
        "Again, none of the continuous sample metadata that we have for this data set are correlated with sample composition, so we won’t test for those associations here. If you’re interested in performing those tests, you can use the qiime metadata distance-matrix in combination with qiime diversity mantel and qiime diversity bioenv commands.\n",
        "\n",
        "Finally, ordination is a popular approach for exploring microbial community composition in the context of sample metadata. We can use the Emperor tool to explore principal coordinates (PCoA) plots in the context of sample metadata. While our core-metrics-phylogenetic command did already generate some Emperor plots, we want to pass an optional parameter, --p-custom-axes, which is very useful for exploring time series data. The PCoA results that were used in core-metrics-phylogeny are also available, making it easy to generate new visualizations with Emperor. We will generate Emperor plots for unweighted UniFrac and Bray-Curtis so that the resulting plot will contain axes for principal coordinate 1, principal coordinate 2, and days since the experiment start. We will use that last axis to explore how these samples changed over time."
      ]
    },
    {
      "cell_type": "code",
      "metadata": {
        "id": "x89tVOsdicZc"
      },
      "source": [
        "!qiime emperor plot \\\n",
        "  --i-pcoa core-metrics-results/unweighted_unifrac_pcoa_results.qza \\\n",
        "  --m-metadata-file sample-metadata.tsv \\\n",
        "  --p-custom-axes days-since-experiment-start \\\n",
        "  --o-visualization core-metrics-results/unweighted-unifrac-emperor-days-since-experiment-start.qzv\n",
        "\n",
        "!qiime emperor plot \\\n",
        "  --i-pcoa core-metrics-results/bray_curtis_pcoa_results.qza \\\n",
        "  --m-metadata-file sample-metadata.tsv \\\n",
        "  --p-custom-axes days-since-experiment-start \\\n",
        "  --o-visualization core-metrics-results/bray-curtis-emperor-days-since-experiment-start.qzv"
      ],
      "execution_count": null,
      "outputs": []
    },
    {
      "cell_type": "markdown",
      "metadata": {
        "id": "JK8wlBq1il7s"
      },
      "source": [
        "# Alpha rarefaction plotting\n",
        "In this section we’ll explore alpha diversity as a function of sampling depth using the qiime diversity alpha-rarefaction visualizer. This visualizer computes one or more alpha diversity metrics at multiple sampling depths, in steps between 1 (optionally controlled with --p-min-depth) and the value provided as --p-max-depth. At each sampling depth step, 10 rarefied tables will be generated, and the diversity metrics will be computed for all samples in the tables. The number of iterations (rarefied tables computed at each sampling depth) can be controlled with --p-iterations. Average diversity values will be plotted for each sample at each even sampling depth, and samples can be grouped based on metadata in the resulting visualization if sample metadata is provided with the --m-metadata-file parameter.\n",
        "\n",
        "The visualization will have two plots. The top plot is an alpha rarefaction plot, and is primarily used to determine if the richness of the samples has been fully observed or sequenced. If the lines in the plot appear to “level out” (i.e., approach a slope of zero) at some sampling depth along the x-axis, that suggests that collecting additional sequences beyond that sampling depth would not be likely to result in the observation of additional features. If the lines in a plot don’t level out, this may be because the richness of the samples hasn’t been fully observed yet (because too few sequences were collected), or it could be an indicator that a lot of sequencing error remains in the data (which is being mistaken for novel diversity).\n",
        "\n",
        "The bottom plot in this visualization is important when grouping samples by metadata. It illustrates the number of samples that remain in each group when the feature table is rarefied to each sampling depth. If a given sampling depth d is larger than the total frequency of a sample s (i.e., the number of sequences that were obtained for sample s), it is not possible to compute the diversity metric for sample s at sampling depth d. If many of the samples in a group have lower total frequencies than d, the average diversity presented for that group at d in the top plot will be unreliable because it will have been computed on relatively few samples. When grouping samples by metadata, it is therefore essential to look at the bottom plot to ensure that the data presented in the top plot is reliable."
      ]
    },
    {
      "cell_type": "code",
      "metadata": {
        "id": "77a2i5-Ji0os"
      },
      "source": [
        "!qiime diversity alpha-rarefaction \\\n",
        "  --i-table table.qza \\\n",
        "  --i-phylogeny rooted-tree.qza \\\n",
        "  --p-max-depth 4000 \\\n",
        "  --m-metadata-file sample-metadata.tsv \\\n",
        "  --o-visualization alpha-rarefaction.qzv"
      ],
      "execution_count": null,
      "outputs": []
    },
    {
      "cell_type": "markdown",
      "metadata": {
        "id": "tHHSzo77i8rO"
      },
      "source": [
        "The visualization will have two plots. The top plot is an alpha rarefaction plot, and is primarily used to determine if the richness of the samples has been fully observed or sequenced. If the lines in the plot appear to “level out” (i.e., approach a slope of zero) at some sampling depth along the x-axis, that suggests that collecting additional sequences beyond that sampling depth would not be likely to result in the observation of additional features. If the lines in a plot don’t level out, this may be because the richness of the samples hasn’t been fully observed yet (because too few sequences were collected), or it could be an indicator that a lot of sequencing error remains in the data (which is being mistaken for novel diversity).\n",
        "\n",
        "The bottom plot in this visualization is important when grouping samples by metadata. It illustrates the number of samples that remain in each group when the feature table is rarefied to each sampling depth. If a given sampling depth d is larger than the total frequency of a sample s (i.e., the number of sequences that were obtained for sample s), it is not possible to compute the diversity metric for sample s at sampling depth d. If many of the samples in a group have lower total frequencies than d, the average diversity presented for that group at d in the top plot will be unreliable because it will have been computed on relatively few samples. When grouping samples by metadata, it is therefore essential to look at the bottom plot to ensure that the data presented in the top plot is reliable."
      ]
    },
    {
      "cell_type": "markdown",
      "metadata": {
        "id": "NimRiavai5-d"
      },
      "source": [
        "# Taxonomic analysis\n",
        "In the next sections we’ll begin to explore the taxonomic composition of the samples, and again relate that to sample metadata. The first step in this process is to assign taxonomy to the sequences in our FeatureData[Sequence] QIIME 2 artifact. We’ll do that using a pre-trained Naive Bayes classifier and the q2-feature-classifier plugin. This classifier was trained on the Greengenes 13_8 99% OTUs, where the sequences have been trimmed to only include 250 bases from the region of the 16S that was sequenced in this analysis (the V4 region, bound by the 515F/806R primer pair). We’ll apply this classifier to our sequences, and we can generate a visualization of the resulting mapping from sequence to taxonomy."
      ]
    },
    {
      "cell_type": "code",
      "metadata": {
        "id": "mx-YEbdajFac"
      },
      "source": [
        "!wget -O \"gg-13-8-99-515-806-nb-classifier.qza\" \"https://data.qiime2.org/2021.8/common/gg-13-8-99-515-806-nb-classifier.qza\""
      ],
      "execution_count": null,
      "outputs": []
    },
    {
      "cell_type": "code",
      "metadata": {
        "id": "UddjEFftjNpr"
      },
      "source": [
        "!qiime feature-classifier classify-sklearn \\\n",
        "  --i-classifier gg-13-8-99-515-806-nb-classifier.qza \\\n",
        "  --i-reads rep-seqs.qza \\\n",
        "  --o-classification taxonomy.qza"
      ],
      "execution_count": null,
      "outputs": []
    },
    {
      "cell_type": "code",
      "metadata": {
        "id": "R12z0uC1kFJ0"
      },
      "source": [
        "!qiime metadata tabulate \\\n",
        "  --m-input-file taxonomy.qza \\\n",
        "  --o-visualization taxonomy.qzv"
      ],
      "execution_count": null,
      "outputs": []
    },
    {
      "cell_type": "markdown",
      "metadata": {
        "id": "SD5QFZQJjR1T"
      },
      "source": [
        "Next, we can view the taxonomic composition of our samples with interactive bar plots. Generate those plots with the following command and then open the visualization."
      ]
    },
    {
      "cell_type": "code",
      "metadata": {
        "id": "sqnSL0r5jStq"
      },
      "source": [
        "!qiime taxa barplot \\\n",
        "  --i-table table.qza \\\n",
        "  --i-taxonomy taxonomy.qza \\\n",
        "  --m-metadata-file sample-metadata.tsv \\\n",
        "  --o-visualization taxa-bar-plots.qzv"
      ],
      "execution_count": null,
      "outputs": []
    },
    {
      "cell_type": "markdown",
      "metadata": {
        "id": "Z0L4ok3gjaEj"
      },
      "source": [
        "# Differential abundance testing with ANCOM\n",
        "ANCOM can be applied to identify features that are differentially abundant (i.e. present in different abundances) across sample groups. As with any bioinformatics method, you should be aware of the assumptions and limitations of ANCOM before using it. We recommend reviewing the ANCOM paper before using this method.\n",
        "\n",
        "ANCOM is implemented in the q2-composition plugin. ANCOM assumes that few (less than about 25%) of the features are changing between groups. If you expect that more features are changing between your groups, you should not use ANCOM as it will be more error-prone (an increase in both Type I and Type II errors is possible). Because we expect a lot of features to change in abundance across body sites, in this tutorial we’ll filter our full feature table to only contain gut samples. We’ll then apply ANCOM to determine which, if any, sequence variants and genera are differentially abundant across the gut samples of our two subjects.\n",
        "\n",
        "We’ll start by creating a feature table that contains only the gut samples. (To learn more about filtering, see the Filtering Data tutorial.)"
      ]
    },
    {
      "cell_type": "code",
      "metadata": {
        "id": "UlplxN3Jjg1S"
      },
      "source": [
        "!qiime feature-table filter-samples \\\n",
        "  --i-table table.qza \\\n",
        "  --m-metadata-file sample-metadata.tsv \\\n",
        "  --p-where \"[body-site]='gut'\" \\\n",
        "  --o-filtered-table gut-table.qza"
      ],
      "execution_count": null,
      "outputs": []
    },
    {
      "cell_type": "markdown",
      "metadata": {
        "id": "dC0Yqzgtjkrq"
      },
      "source": [
        "ANCOM operates on a FeatureTable[Composition] QIIME 2 artifact, which is based on frequencies of features on a per-sample basis, but cannot tolerate frequencies of zero. To build the composition artifact, a FeatureTable[Frequency] artifact must be provided to add-pseudocount (an imputation method), which will produce the FeatureTable[Composition] artifact."
      ]
    },
    {
      "cell_type": "code",
      "metadata": {
        "id": "Q6SKgLjojljM"
      },
      "source": [
        "!qiime composition add-pseudocount \\\n",
        "  --i-table gut-table.qza \\\n",
        "  --o-composition-table comp-gut-table.qza"
      ],
      "execution_count": null,
      "outputs": []
    },
    {
      "cell_type": "markdown",
      "metadata": {
        "id": "rRvHPHBnjpZa"
      },
      "source": [
        "We can then run ANCOM on the subject column to determine what features differ in abundance across the gut samples of the two subjects."
      ]
    },
    {
      "cell_type": "code",
      "metadata": {
        "id": "nByjkf-OjqMM"
      },
      "source": [
        "!qiime composition ancom \\\n",
        "  --i-table comp-gut-table.qza \\\n",
        "  --m-metadata-file sample-metadata.tsv \\\n",
        "  --m-metadata-column subject \\\n",
        "  --o-visualization ancom-subject.qzv"
      ],
      "execution_count": null,
      "outputs": []
    },
    {
      "cell_type": "markdown",
      "metadata": {
        "id": "OpzhQuvYjwAb"
      },
      "source": [
        "We’re also often interested in performing a differential abundance test at a specific taxonomic level. To do this, we can collapse the features in our FeatureTable[Frequency] at the taxonomic level of interest, and then re-run the above steps. In this tutorial, we collapse our feature table at the genus level (i.e. level 6 of the Greengenes taxonomy)."
      ]
    },
    {
      "cell_type": "code",
      "metadata": {
        "id": "-qNZSRm-jw7u"
      },
      "source": [
        "!qiime taxa collapse \\\n",
        "  --i-table gut-table.qza \\\n",
        "  --i-taxonomy taxonomy.qza \\\n",
        "  --p-level 6 \\\n",
        "  --o-collapsed-table gut-table-l6.qza\n",
        "\n",
        "!qiime composition add-pseudocount \\\n",
        "  --i-table gut-table-l6.qza \\\n",
        "  --o-composition-table comp-gut-table-l6.qza\n",
        "\n",
        "!qiime composition ancom \\\n",
        "  --i-table comp-gut-table-l6.qza \\\n",
        "  --m-metadata-file sample-metadata.tsv \\\n",
        "  --m-metadata-column subject \\\n",
        "  --o-visualization l6-ancom-subject.qzv"
      ],
      "execution_count": null,
      "outputs": []
    }
  ]
}